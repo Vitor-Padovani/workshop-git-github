{
  "nbformat": 4,
  "nbformat_minor": 0,
  "metadata": {
    "colab": {
      "provenance": [],
      "collapsed_sections": [],
      "include_colab_link": true
    },
    "kernelspec": {
      "name": "python3",
      "display_name": "Python 3"
    },
    "language_info": {
      "name": "python"
    }
  },
  "cells": [
    {
      "cell_type": "markdown",
      "metadata": {
        "id": "view-in-github",
        "colab_type": "text"
      },
      "source": [
        "<a href=\"https://colab.research.google.com/github/Vitor-Padovani/workshop-git-github/blob/main/SECOMP.ipynb\" target=\"_parent\"><img src=\"https://colab.research.google.com/assets/colab-badge.svg\" alt=\"Open In Colab\"/></a>"
      ]
    },
    {
      "cell_type": "markdown",
      "metadata": {
        "id": "CXZZfQmpQMJV"
      },
      "source": [
        "#Python - Variáveis"
      ]
    },
    {
      "cell_type": "markdown",
      "metadata": {
        "id": "Fb33GdOHVGqT"
      },
      "source": [
        "## String"
      ]
    },
    {
      "cell_type": "code",
      "metadata": {
        "id": "CYxmGb5zQOxz"
      },
      "source": [
        "variavel_string = 'oi mundo'"
      ],
      "execution_count": null,
      "outputs": []
    },
    {
      "cell_type": "code",
      "metadata": {
        "id": "0q1H6atZQen_"
      },
      "source": [
        "print(variavel_string)"
      ],
      "execution_count": null,
      "outputs": []
    },
    {
      "cell_type": "code",
      "metadata": {
        "id": "WvHVk1S9wZzo"
      },
      "source": [
        "variavel_string"
      ],
      "execution_count": null,
      "outputs": []
    },
    {
      "cell_type": "code",
      "metadata": {
        "id": "rRcMKSK-WRwX"
      },
      "source": [
        "type(variavel_string)"
      ],
      "execution_count": null,
      "outputs": []
    },
    {
      "cell_type": "code",
      "metadata": {
        "id": "ZkRlKsXIIIpX"
      },
      "source": [
        "variavel_string.upper()"
      ],
      "execution_count": null,
      "outputs": []
    },
    {
      "cell_type": "code",
      "metadata": {
        "id": "toO1_zGnIRTx"
      },
      "source": [
        "variavel_string[0:5]"
      ],
      "execution_count": null,
      "outputs": []
    },
    {
      "cell_type": "code",
      "metadata": {
        "id": "bEeGll3GIa8w"
      },
      "source": [
        "variavel_string[:-2]"
      ],
      "execution_count": null,
      "outputs": []
    },
    {
      "cell_type": "markdown",
      "metadata": {
        "id": "sSKV3LxkVM-n"
      },
      "source": [
        "## Variáveis Numéricas"
      ]
    },
    {
      "cell_type": "code",
      "metadata": {
        "id": "8Oz76fUtQhEe"
      },
      "source": [
        "variavel_int = 2"
      ],
      "execution_count": null,
      "outputs": []
    },
    {
      "cell_type": "code",
      "metadata": {
        "id": "3I19zRcIQgUw"
      },
      "source": [
        "variavel_int"
      ],
      "execution_count": null,
      "outputs": []
    },
    {
      "cell_type": "code",
      "metadata": {
        "id": "Y7-p2vooQo7u"
      },
      "source": [
        " variavel_int + 10"
      ],
      "execution_count": null,
      "outputs": []
    },
    {
      "cell_type": "code",
      "metadata": {
        "id": "YWkbLzEgQzm4"
      },
      "source": [
        "type(variavel_int)"
      ],
      "execution_count": null,
      "outputs": []
    },
    {
      "cell_type": "code",
      "metadata": {
        "id": "k_hRp7NDxh7c"
      },
      "source": [
        "variavel_float = 2.5"
      ],
      "execution_count": null,
      "outputs": []
    },
    {
      "cell_type": "code",
      "metadata": {
        "id": "ZePPtfgOxlF0"
      },
      "source": [
        "type(variavel_float)"
      ],
      "execution_count": null,
      "outputs": []
    },
    {
      "cell_type": "markdown",
      "metadata": {
        "id": "DDFpbGbkVSQp"
      },
      "source": [
        "## Lista"
      ]
    },
    {
      "cell_type": "code",
      "metadata": {
        "id": "Fid2aU5-Q2g8"
      },
      "source": [
        "lista = ['elemento1', 'elemento2', 'elemento3']"
      ],
      "execution_count": null,
      "outputs": []
    },
    {
      "cell_type": "code",
      "metadata": {
        "id": "khxq-ctlRwJD"
      },
      "source": [
        "lista[-1]"
      ],
      "execution_count": null,
      "outputs": []
    },
    {
      "cell_type": "code",
      "metadata": {
        "id": "XHqQ3Hs6Ry2K"
      },
      "source": [
        "len(lista)"
      ],
      "execution_count": null,
      "outputs": []
    },
    {
      "cell_type": "markdown",
      "metadata": {
        "id": "TjwN8d3dVU8V"
      },
      "source": [
        "## Dicionário"
      ]
    },
    {
      "cell_type": "code",
      "metadata": {
        "id": "mNNmQ5FKBuAM"
      },
      "source": [
        "dicionario_siglas_estados = {\n",
        "    'SP':'São Paulo',\n",
        "    'RJ':'Rio de Janeiro',\n",
        "    'AC':'Acre',\n",
        "    'BA':'Bahia'\n",
        "}"
      ],
      "execution_count": null,
      "outputs": []
    },
    {
      "cell_type": "code",
      "metadata": {
        "id": "x6ZIbPeNBuQC"
      },
      "source": [
        "dicionario_siglas_estados['SP']"
      ],
      "execution_count": null,
      "outputs": []
    },
    {
      "cell_type": "code",
      "metadata": {
        "id": "Sj_wL_sFCZnU"
      },
      "source": [
        "dicionario_siglas_estados['RJ']"
      ],
      "execution_count": null,
      "outputs": []
    },
    {
      "cell_type": "markdown",
      "metadata": {
        "id": "IsH-wju1Vfyq"
      },
      "source": [
        "# Python - Comandos / Operadores"
      ]
    },
    {
      "cell_type": "markdown",
      "metadata": {
        "id": "TCWvpltCWuYL"
      },
      "source": [
        "## Loop For"
      ]
    },
    {
      "cell_type": "code",
      "metadata": {
        "id": "zzSIQDdgEE_U"
      },
      "source": [
        "for i in lista:\n",
        "  #print(\"Elemento={}\".format(i))\n",
        "  print(\"Elemento='\"+i+\"'\")\n"
      ],
      "execution_count": null,
      "outputs": []
    },
    {
      "cell_type": "markdown",
      "metadata": {
        "id": "K4sGxWomWyZm"
      },
      "source": [
        "## if / else"
      ]
    },
    {
      "cell_type": "code",
      "metadata": {
        "id": "NjsgG5vjEEpV"
      },
      "source": [
        "x = 4\n",
        "if x == 10:\n",
        "  print('x é igual 10')\n",
        "else:\n",
        "  print('x não é igual a 10')"
      ],
      "execution_count": null,
      "outputs": []
    },
    {
      "cell_type": "markdown",
      "metadata": {
        "id": "sfxBQVpLW6YQ"
      },
      "source": [
        "## Operador Ou (|) "
      ]
    },
    {
      "cell_type": "code",
      "metadata": {
        "id": "L5Hk5Z7rEpuZ"
      },
      "source": [
        "x=1\n",
        "y=4\n",
        "if (x > 3) | (y > 3):\n",
        "  print('x ou y maior que 3')\n",
        "else:\n",
        "  print('x e y menores que 3')"
      ],
      "execution_count": null,
      "outputs": []
    },
    {
      "cell_type": "markdown",
      "metadata": {
        "id": "D7ZwwQFgXAHb"
      },
      "source": [
        "## Operador E (&)"
      ]
    },
    {
      "cell_type": "code",
      "metadata": {
        "id": "-MTq49F2E-I8"
      },
      "source": [
        "x=4\n",
        "y=4\n",
        "if (x > 3) & (y > 3):\n",
        "  print('x e y maiores que 3')\n",
        "else:\n",
        "  print('x ou y menores que 3')"
      ],
      "execution_count": null,
      "outputs": []
    },
    {
      "cell_type": "markdown",
      "metadata": {
        "id": "pMky0nYL7HVB"
      },
      "source": [
        "# Python - Funções"
      ]
    },
    {
      "cell_type": "code",
      "metadata": {
        "id": "uHBBxLOe7L0Q"
      },
      "source": [
        "def soma_um (numero):\n",
        "  return numero+1"
      ],
      "execution_count": null,
      "outputs": []
    },
    {
      "cell_type": "code",
      "metadata": {
        "id": "MaMe1Vsv7TbW"
      },
      "source": [
        "soma_um(3)"
      ],
      "execution_count": null,
      "outputs": []
    },
    {
      "cell_type": "code",
      "source": [
        "def soma_um (numero):\n",
        "  return numero+1, 2"
      ],
      "metadata": {
        "id": "PnLvRc6wFg0r"
      },
      "execution_count": null,
      "outputs": []
    },
    {
      "cell_type": "code",
      "source": [
        "soma_um(3)"
      ],
      "metadata": {
        "id": "g7V_3cR8FmK3"
      },
      "execution_count": null,
      "outputs": []
    },
    {
      "cell_type": "markdown",
      "metadata": {
        "id": "Q88LMBolWD0i"
      },
      "source": [
        "# Pandas"
      ]
    },
    {
      "cell_type": "code",
      "metadata": {
        "id": "id9QHMf07V6o"
      },
      "source": [
        "import pandas as pd"
      ],
      "execution_count": null,
      "outputs": []
    },
    {
      "cell_type": "code",
      "metadata": {
        "id": "QPMtJnWRY-Y_"
      },
      "source": [
        "import matplotlib.pyplot as plt\n",
        "%matplotlib inline"
      ],
      "execution_count": null,
      "outputs": []
    },
    {
      "cell_type": "markdown",
      "metadata": {
        "id": "Ynjzqb_vY45a"
      },
      "source": [
        "## Criando Dataframes / Business Understanding\n"
      ]
    },
    {
      "cell_type": "markdown",
      "source": [
        "O dataset original está em: https://www.kaggle.com/datasets/uciml/pima-indians-diabetes-database\n",
        "\n",
        "This dataset is originally from the National Institute of Diabetes and Digestive and Kidney Diseases. The objective of the dataset is to diagnostically predict whether or not a patient has diabetes, based on certain diagnostic measurements included in the dataset. Several constraints were placed on the selection of these instances from a larger database. In particular, all patients here are females at least 21 years old of Pima Indian heritage.\n",
        "\n",
        "* Pregnancies - Number of times pregnant\n",
        "* Glucose - Plasma glucose concentration a 2 hours in an oral glucose tolerance test\n",
        "* BloodPressure - Diastolic blood pressure (mm Hg)\n",
        "* SkinThickness - Triceps skin fold thickness (mm)\n",
        "* Insulin - 2-Hour serum insulin (mu U/ml)\n",
        "* BMI - Body mass index (weight in kg/(height in m)^2)\n",
        "* DiabetesPedigreeFunction - Diabetes pedigree function ( indicates the function which scores likelihood of diabetes based on family history)\n",
        "* Age - Age (years)\n",
        "* Outcome - Class variable (0 or 1) 268 of 768 are 1, the others are 0\n",
        "\n",
        "\n",
        "\n"
      ],
      "metadata": {
        "id": "jRYsQ-REAqSQ"
      }
    },
    {
      "cell_type": "code",
      "metadata": {
        "id": "14qos_pVwo6a"
      },
      "source": [
        "url = 'https://drive.google.com/file/d/1-ENdtDbliS8Ziyn8rW8BgATGhze8ykz3/view?usp=sharing'\n",
        "path = 'https://drive.google.com/uc?export=download&id='+url.split('/')[-2]\n",
        "diabetes_df1 = pd.read_csv(path, sep=',')"
      ],
      "execution_count": null,
      "outputs": []
    },
    {
      "cell_type": "markdown",
      "source": [],
      "metadata": {
        "id": "_EjrfEBxsWq8"
      }
    },
    {
      "cell_type": "code",
      "metadata": {
        "id": "wdGC7_ePsNPs"
      },
      "source": [
        "print(url.split('/')[-2])"
      ],
      "execution_count": null,
      "outputs": []
    },
    {
      "cell_type": "code",
      "source": [
        "url = 'https://drive.google.com/file/d/1-7368469-rGM66GQwUw8W_18o9hFo0D1/view?usp=sharing'\n",
        "path = 'https://drive.google.com/uc?export=download&id='+url.split('/')[-2]\n",
        "diabetes_df2 = pd.read_csv(path, sep=',')"
      ],
      "metadata": {
        "id": "De0g_1IbzeR2"
      },
      "execution_count": null,
      "outputs": []
    },
    {
      "cell_type": "markdown",
      "metadata": {
        "id": "7gFitr54ZVvY"
      },
      "source": [
        "## Usando o head()\n",
        "\n",
        "---\n",
        "\n"
      ]
    },
    {
      "cell_type": "markdown",
      "source": [
        "\n",
        "Data Understanding\n",
        "---\n",
        "\n"
      ],
      "metadata": {
        "id": "FvrMKlWNBSGy"
      }
    },
    {
      "cell_type": "code",
      "metadata": {
        "id": "-J804X2Aw83S"
      },
      "source": [
        "diabetes_df1.head()"
      ],
      "execution_count": null,
      "outputs": []
    },
    {
      "cell_type": "code",
      "source": [
        "diabetes_df2.head()"
      ],
      "metadata": {
        "id": "IkdbHZkk6DOO"
      },
      "execution_count": null,
      "outputs": []
    },
    {
      "cell_type": "markdown",
      "source": [
        "## Joins - Cruzamento de dados"
      ],
      "metadata": {
        "id": "AN9cedMm60pX"
      }
    },
    {
      "cell_type": "code",
      "source": [
        "diabetes_df = pd.merge(diabetes_df1, diabetes_df2, on='id',  how='inner')"
      ],
      "metadata": {
        "id": "VlITMz-w6wKH"
      },
      "execution_count": null,
      "outputs": []
    },
    {
      "cell_type": "code",
      "source": [
        "diabetes_df.head()"
      ],
      "metadata": {
        "id": "lo37D-Vx7Hfo"
      },
      "execution_count": null,
      "outputs": []
    },
    {
      "cell_type": "markdown",
      "metadata": {
        "id": "5S0s02pjY9TI"
      },
      "source": [
        "## Usando o describe()"
      ]
    },
    {
      "cell_type": "code",
      "metadata": {
        "id": "ndYz_6JJxr0S"
      },
      "source": [
        "diabetes_df.describe()"
      ],
      "execution_count": null,
      "outputs": []
    },
    {
      "cell_type": "markdown",
      "metadata": {
        "id": "sh0VNNYUZMFf"
      },
      "source": [
        "## Usando o value_counts()"
      ]
    },
    {
      "cell_type": "code",
      "metadata": {
        "id": "OQusQ8n7yBh2"
      },
      "source": [
        "diabetes_df['Pregnancies'].value_counts()"
      ],
      "execution_count": null,
      "outputs": []
    },
    {
      "cell_type": "code",
      "metadata": {
        "id": "fmoHA-h_yFWb"
      },
      "source": [
        "diabetes_df['Glucose'].value_counts()"
      ],
      "execution_count": null,
      "outputs": []
    },
    {
      "cell_type": "code",
      "metadata": {
        "id": "3HFkfn_-yO79"
      },
      "source": [
        "diabetes_df['BloodPressure'].value_counts()"
      ],
      "execution_count": null,
      "outputs": []
    },
    {
      "cell_type": "code",
      "metadata": {
        "id": "qM6rVdFIyVH0"
      },
      "source": [
        "diabetes_df['SkinThickness'].value_counts()"
      ],
      "execution_count": null,
      "outputs": []
    },
    {
      "cell_type": "code",
      "metadata": {
        "id": "btbKlfXlyd0U"
      },
      "source": [
        "diabetes_df['Insulin'].value_counts()"
      ],
      "execution_count": null,
      "outputs": []
    },
    {
      "cell_type": "code",
      "metadata": {
        "id": "z2632Wk5yiqE"
      },
      "source": [
        "diabetes_df['BMI'].value_counts()"
      ],
      "execution_count": null,
      "outputs": []
    },
    {
      "cell_type": "code",
      "metadata": {
        "id": "oCtazC9Yyq66"
      },
      "source": [
        "diabetes_df['Age'].value_counts()"
      ],
      "execution_count": null,
      "outputs": []
    },
    {
      "cell_type": "code",
      "source": [
        "diabetes_df['Outcome'].value_counts()"
      ],
      "metadata": {
        "id": "KMOqMvIZmPlT"
      },
      "execution_count": null,
      "outputs": []
    },
    {
      "cell_type": "markdown",
      "metadata": {
        "id": "-0LePiIzZ4Y_"
      },
      "source": [
        "## Explorando uma coluna\n",
        "- Como acessar uma coluna\n",
        "- Tirando a média de uma coluna"
      ]
    },
    {
      "cell_type": "code",
      "metadata": {
        "id": "WqFAEltuzHvs"
      },
      "source": [
        "diabetes_df['Pregnancies']"
      ],
      "execution_count": null,
      "outputs": []
    },
    {
      "cell_type": "code",
      "metadata": {
        "id": "_Sd-nNXyzO5-"
      },
      "source": [
        "type(diabetes_df['Pregnancies'])"
      ],
      "execution_count": null,
      "outputs": []
    },
    {
      "cell_type": "code",
      "metadata": {
        "id": "Dt_J1xv3zTuN"
      },
      "source": [
        "diabetes_df['Pregnancies'].describe()"
      ],
      "execution_count": null,
      "outputs": []
    },
    {
      "cell_type": "code",
      "metadata": {
        "id": "XzbLRpNezYjI"
      },
      "source": [
        "diabetes_df['Pregnancies'].mean()"
      ],
      "execution_count": null,
      "outputs": []
    },
    {
      "cell_type": "code",
      "metadata": {
        "id": "dWfLssd2ZzGz"
      },
      "source": [
        "diabetes_df['Pregnancies'].hist()"
      ],
      "execution_count": null,
      "outputs": []
    },
    {
      "cell_type": "code",
      "metadata": {
        "id": "eE_m1il0aLOY"
      },
      "source": [
        "diabetes_df['Pregnancies'].value_counts().plot(kind='barh')"
      ],
      "execution_count": null,
      "outputs": []
    },
    {
      "cell_type": "code",
      "source": [
        "diabetes_df.boxplot(column=['Pregnancies'], return_type='axes');"
      ],
      "metadata": {
        "id": "OOb2M3ro_Ygh"
      },
      "execution_count": null,
      "outputs": []
    },
    {
      "cell_type": "markdown",
      "metadata": {
        "id": "cCm4lvP3ahFj"
      },
      "source": [
        "## Operações com colunas / Data preparation\n"
      ]
    },
    {
      "cell_type": "code",
      "source": [
        "diabetes_df.dtypes"
      ],
      "metadata": {
        "id": "7gjoSfyO7vJq"
      },
      "execution_count": null,
      "outputs": []
    },
    {
      "cell_type": "code",
      "source": [
        "diabetes_df['Outcome'].value_counts()"
      ],
      "metadata": {
        "id": "vfqvzd2LIo7_"
      },
      "execution_count": null,
      "outputs": []
    },
    {
      "cell_type": "code",
      "metadata": {
        "id": "_T-_EY__4NE-"
      },
      "source": [
        "def transf_maiscula(texto):\n",
        "  return texto.upper()"
      ],
      "execution_count": null,
      "outputs": []
    },
    {
      "cell_type": "code",
      "metadata": {
        "id": "6zKw73RW4Tv4"
      },
      "source": [
        "diabetes_df['Outcome_upper'] = diabetes_df['Outcome'].map(transf_maiscula)"
      ],
      "execution_count": null,
      "outputs": []
    },
    {
      "cell_type": "code",
      "metadata": {
        "id": "yu6BJTDo4mhl"
      },
      "source": [
        "diabetes_df[['Outcome', 'Outcome_upper']].head()"
      ],
      "execution_count": null,
      "outputs": []
    },
    {
      "cell_type": "code",
      "source": [
        "diabetes_df['Outcome_upper'].value_counts()"
      ],
      "metadata": {
        "id": "_ka5x-0-F0dm"
      },
      "execution_count": null,
      "outputs": []
    },
    {
      "cell_type": "code",
      "metadata": {
        "id": "YIK2bcqL1QSH"
      },
      "source": [
        "def transform_output(outcome):\n",
        "  if outcome == 'T':\n",
        "    return 1\n",
        "  else:\n",
        "    return 0"
      ],
      "execution_count": null,
      "outputs": []
    },
    {
      "cell_type": "code",
      "source": [
        "upper_true = diabetes_df.loc[diabetes_df['Outcome_upper'] == 'T']"
      ],
      "metadata": {
        "id": "PwUAnmEefRFt"
      },
      "execution_count": null,
      "outputs": []
    },
    {
      "cell_type": "code",
      "source": [
        "upper_true.head()"
      ],
      "metadata": {
        "id": "jQXkZ5AWf2MC"
      },
      "execution_count": null,
      "outputs": []
    },
    {
      "cell_type": "code",
      "metadata": {
        "id": "vApGCFii4tXk"
      },
      "source": [
        "diabetes_df['Outcome_numeric'] = diabetes_df['Outcome_upper'].apply(lambda x : transform_output(x))"
      ],
      "execution_count": null,
      "outputs": []
    },
    {
      "cell_type": "code",
      "metadata": {
        "id": "K9oxwxAh7cgY"
      },
      "source": [
        "diabetes_df[['Outcome', 'Outcome_upper', 'Outcome_numeric']].head()"
      ],
      "execution_count": null,
      "outputs": []
    },
    {
      "cell_type": "markdown",
      "metadata": {
        "id": "BOPF7zIXa-B4"
      },
      "source": [
        "## Agregações"
      ]
    },
    {
      "cell_type": "code",
      "source": [
        "diabetes_df.head()"
      ],
      "metadata": {
        "id": "YH9vOXPoPmpv"
      },
      "execution_count": null,
      "outputs": []
    },
    {
      "cell_type": "code",
      "metadata": {
        "id": "e7mZ8_hiGLo5"
      },
      "source": [
        "diabetes_df.groupby('Outcome_numeric')['Age'].mean()"
      ],
      "execution_count": null,
      "outputs": []
    },
    {
      "cell_type": "code",
      "metadata": {
        "id": "6ZzZ8HkSGmyH"
      },
      "source": [
        "diabetes_df.groupby('Outcome_numeric')['Pregnancies'].mean()"
      ],
      "execution_count": null,
      "outputs": []
    },
    {
      "cell_type": "code",
      "source": [
        "diabetes_df.groupby('Outcome_numeric').mean()"
      ],
      "metadata": {
        "id": "LUJn_CrjiwWD"
      },
      "execution_count": null,
      "outputs": []
    },
    {
      "cell_type": "markdown",
      "metadata": {
        "id": "m77LGa2tb0vG"
      },
      "source": [
        "## Lidando com valores nulls"
      ]
    },
    {
      "cell_type": "code",
      "metadata": {
        "id": "7L4OGLfNb_XF"
      },
      "source": [
        "diabetes_df.isnull().sum()"
      ],
      "execution_count": null,
      "outputs": []
    },
    {
      "cell_type": "code",
      "metadata": {
        "id": "dtYqQZsNMCoB"
      },
      "source": [
        "diabetes_df.fillna(0, inplace=True)\n",
        "#variavel_df = diabetes_df.fillna(0)\n",
        "#diabetes_df.fillna({'BloodPressure':0}, inplace=True)"
      ],
      "execution_count": null,
      "outputs": []
    },
    {
      "cell_type": "code",
      "source": [
        "#diabetes_df.replace(to_replace = 0, value = diabetes_df['BloodPressure'].mean(), inplace=True)\n",
        "diabetes_df['BloodPressure']=diabetes_df['BloodPressure'].replace(0,diabetes_df['BloodPressure'].mean())"
      ],
      "metadata": {
        "id": "Bg246VloMqLz"
      },
      "execution_count": null,
      "outputs": []
    },
    {
      "cell_type": "code",
      "source": [
        "diabetes_df['BloodPressure'].describe()"
      ],
      "metadata": {
        "id": "AOp4OYHdND9h"
      },
      "execution_count": null,
      "outputs": []
    },
    {
      "cell_type": "code",
      "metadata": {
        "id": "WUUHN29vMRmV"
      },
      "source": [
        "diabetes_df.sort_values(by='DiabetesPedigreeFunction')"
      ],
      "execution_count": null,
      "outputs": []
    },
    {
      "cell_type": "markdown",
      "source": [
        "## Removendo Colunas"
      ],
      "metadata": {
        "id": "ty3amxBYa5eK"
      }
    },
    {
      "cell_type": "code",
      "source": [
        "diabetes_df.drop(['id', 'Outcome', 'Outcome_upper'], axis=1, inplace=True)"
      ],
      "metadata": {
        "id": "bwQh4unha48Q"
      },
      "execution_count": null,
      "outputs": []
    },
    {
      "cell_type": "code",
      "source": [
        "diabetes_df.head()"
      ],
      "metadata": {
        "id": "nrjL9i9YbRYD"
      },
      "execution_count": null,
      "outputs": []
    },
    {
      "cell_type": "markdown",
      "source": [
        "## Renomeando Colunas"
      ],
      "metadata": {
        "id": "iLF7vXxdbT2z"
      }
    },
    {
      "cell_type": "code",
      "source": [
        "diabetes_df.rename(columns={'Outcome_numeric':'Outcome'}, inplace=True, errors=\"raise\")"
      ],
      "metadata": {
        "id": "c2hN8wy_br0G"
      },
      "execution_count": null,
      "outputs": []
    },
    {
      "cell_type": "code",
      "source": [
        "diabetes_df.head()"
      ],
      "metadata": {
        "id": "0heqNxafby_D"
      },
      "execution_count": null,
      "outputs": []
    },
    {
      "cell_type": "markdown",
      "metadata": {
        "id": "fqDSev-HbCab"
      },
      "source": [
        "# Prevendo se uma pessoa vai ter diabetes\n",
        "\n"
      ]
    },
    {
      "cell_type": "markdown",
      "source": [
        "## Divisão treino / teste - Modeling"
      ],
      "metadata": {
        "id": "-eW_j_BKjuA4"
      }
    },
    {
      "cell_type": "code",
      "source": [
        "X = diabetes_df.drop(['Outcome'], axis=1)\n",
        "y = diabetes_df['Outcome']"
      ],
      "metadata": {
        "id": "EPpMJLGYcm_L"
      },
      "execution_count": null,
      "outputs": []
    },
    {
      "cell_type": "code",
      "source": [
        "X.head()"
      ],
      "metadata": {
        "id": "-IFjvv-JMDaG"
      },
      "execution_count": null,
      "outputs": []
    },
    {
      "cell_type": "code",
      "source": [
        "y.head()"
      ],
      "metadata": {
        "id": "qu2xOJVvMLf1"
      },
      "execution_count": null,
      "outputs": []
    },
    {
      "cell_type": "code",
      "source": [
        "from sklearn.model_selection import train_test_split\n",
        "X_train, X_test, y_train, y_test = train_test_split(X, y, test_size = 0.30, random_state=10)"
      ],
      "metadata": {
        "id": "UK3-1roMdMdM"
      },
      "execution_count": null,
      "outputs": []
    },
    {
      "cell_type": "code",
      "source": [
        "X_train.count()"
      ],
      "metadata": {
        "id": "ECi-tS7bNXZl"
      },
      "execution_count": null,
      "outputs": []
    },
    {
      "cell_type": "code",
      "source": [
        "y_train.value_counts()"
      ],
      "metadata": {
        "id": "5xhKo7I5OjUC"
      },
      "execution_count": null,
      "outputs": []
    },
    {
      "cell_type": "code",
      "source": [
        "X_test.count()"
      ],
      "metadata": {
        "id": "4SNTj7yMNbes"
      },
      "execution_count": null,
      "outputs": []
    },
    {
      "cell_type": "code",
      "source": [
        "y_test.value_counts()"
      ],
      "metadata": {
        "id": "uhhwH71FOuSL"
      },
      "execution_count": null,
      "outputs": []
    },
    {
      "cell_type": "markdown",
      "source": [
        "## Produção do modelo"
      ],
      "metadata": {
        "id": "GI3UJsHaj-3B"
      }
    },
    {
      "cell_type": "code",
      "source": [
        "## Aplicando algoritmo\n",
        "\n",
        "from sklearn.ensemble import RandomForestClassifier\n",
        "random_forest_model = RandomForestClassifier(random_state=10)\n",
        "\n",
        "random_forest_model.fit(X_train, y_train.ravel())"
      ],
      "metadata": {
        "id": "OTgo53MwdZym"
      },
      "execution_count": null,
      "outputs": []
    },
    {
      "cell_type": "markdown",
      "source": [
        "## Fazendo predições"
      ],
      "metadata": {
        "id": "49Y1D_7IkEU6"
      }
    },
    {
      "cell_type": "code",
      "source": [
        "predict_train_data = random_forest_model.predict(X_test)"
      ],
      "metadata": {
        "id": "qLa1jjIUdlOA"
      },
      "execution_count": null,
      "outputs": []
    },
    {
      "cell_type": "markdown",
      "source": [
        "## Calculando Resultados / Evaluation"
      ],
      "metadata": {
        "id": "YmCrU3DokPVW"
      }
    },
    {
      "cell_type": "code",
      "source": [
        "from sklearn import metrics\n",
        "\n",
        "print(\"Accuracy = {0:.3f}\".format(metrics.accuracy_score(y_test, predict_train_data)))"
      ],
      "metadata": {
        "id": "_6RaC6vdds1N"
      },
      "execution_count": null,
      "outputs": []
    },
    {
      "cell_type": "code",
      "source": [
        "random_forest_model.feature_importances_"
      ],
      "metadata": {
        "id": "yoCK0pPuHmSY"
      },
      "execution_count": null,
      "outputs": []
    },
    {
      "cell_type": "code",
      "source": [
        "plt.barh(X_train.columns, random_forest_model.feature_importances_)"
      ],
      "metadata": {
        "id": "ObZ7IxwnHpv_"
      },
      "execution_count": null,
      "outputs": []
    },
    {
      "cell_type": "code",
      "source": [
        "import seaborn as sn\n",
        "\n",
        "data = {'y_Actual':    y_test.values,\n",
        "        'y_Predicted': predict_train_data\n",
        "        }\n",
        "\n",
        "df = pd.DataFrame(data, columns=['y_Actual','y_Predicted'])\n",
        "confusion_matrix = pd.crosstab(df['y_Actual'], df['y_Predicted'], rownames=['Actual'], colnames=['Predicted'], margins = True)\n",
        "\n",
        "sn.heatmap(confusion_matrix, annot=True, fmt='d')\n",
        "plt.show()"
      ],
      "metadata": {
        "id": "s_dNbq1DH8sy"
      },
      "execution_count": null,
      "outputs": []
    },
    {
      "cell_type": "markdown",
      "source": [
        "true-positive = 42 tem diabetes e foi diagnosticada com diabetes\n",
        "true-negative = 132 não tem diabetes e foi diagnosticada sem diabetes\n",
        "false-positive = 12 não tem diabetes e foi diagnosticada com diabetes\n",
        "false-negative = 45 tem diabetes e foi diagnosticado sem diabetes"
      ],
      "metadata": {
        "id": "MEDpPiG7Yee3"
      }
    },
    {
      "cell_type": "code",
      "source": [
        "# true-positive = 42 tem diabetes e foi diagnosticada com diabetes\n",
        "# true-negative = 132 não tem diabetes e foi diagnosticada sem diabetes\n",
        "# false-positive = 12 não tem diabetes e foi diagnosticada com diabetes\n",
        "# false-negative = 45 tem diabetes e foi diagnosticado sem diabetes"
      ],
      "metadata": {
        "id": "Gg0sJoLWP3eQ"
      },
      "execution_count": null,
      "outputs": []
    },
    {
      "cell_type": "code",
      "source": [
        "from sklearn.metrics import classification_report\n",
        "target_names = ['False', 'True']\n",
        "print(classification_report(y_test.values, predict_train_data, target_names=target_names))"
      ],
      "metadata": {
        "id": "NCROU1QFK5B7"
      },
      "execution_count": null,
      "outputs": []
    },
    {
      "cell_type": "markdown",
      "source": [
        "* Acurácia: indica uma performance geral do modelo. Dentre todas as classificações, quantas o modelo classificou corretamente;\n",
        "* Precisão: dentre todas as classificações de classe Positivo que o modelo fez, quantas estão corretas;\n",
        "* Recall/Revocação/Sensibilidade: dentre todas as situações de classe Positivo como valor esperado, quantas estão corretas;\n",
        "* F1-Score: média harmônica entre precisão e recall."
      ],
      "metadata": {
        "id": "fLEUtlA9MhXN"
      }
    },
    {
      "cell_type": "code",
      "source": [],
      "metadata": {
        "id": "j0hkT-YvZp7o"
      },
      "execution_count": null,
      "outputs": []
    },
    {
      "cell_type": "markdown",
      "source": [
        "## Reflexões sobre o modelo"
      ],
      "metadata": {
        "id": "MFTI-WbXaKdf"
      }
    },
    {
      "cell_type": "markdown",
      "source": [
        "* Será que este é um modelo bom? \n",
        "* A acurácia pode ser uma boa indicação geral do desempenho do modelo. Porém, há situações em que ela é enganosa. Por exemplo, num modelo de identificação de fraudes em cartões de crédito, o número de casos considerados como fraude pode ser bem pequeno em relação ao número de casos considerados legais. Por exemplo, numa situação hipotética com 99.000 casos legais e 1.000 de fraude, se classificarmos todos os casos como não-fraude, teríamos uma acurácia de 99%. No nosso caso, por exemplo, temos mais casos negativos de diabetes\n",
        "* A precisão pode ser usada em uma situação em que os Falsos Positivos são considerados mais prejudiciais que os Falsos Negativos. Exemplo:  sistema que faça a detecção automática de spam. Nesse caso, um falso positivo pode ser considerado um problema mais crítico. Tudo bem se o spam entrar na pasta da caixa de entrada (Falso negativo), mas um e-mail realmente importante não deve entrar na pasta de spam (Falso positivo).\n",
        "* O recall pode ser usada em uma situação em que os Falsos Negativos são considerados mais prejudiciais que os Falsos Positivos. No caso do doenças, por exemplo, é interessante que o modelo tenha um alto recall, pois classificar pacientes doentes como saudáveis (Falso Negativo) pode ser uma tragédia."
      ],
      "metadata": {
        "id": "oECYjIuOaPLy"
      }
    },
    {
      "cell_type": "markdown",
      "source": [
        "## Referências para incremetar o modelo"
      ],
      "metadata": {
        "id": "DEWG5OfhaCn8"
      }
    },
    {
      "cell_type": "markdown",
      "source": [
        "* Balanceamento de classes - https://medium.com/analytics-vidhya/machine-learning-how-to-handle-class-imbalance-920e48c3e970\n",
        "* Ajuste de hiperparâmetros - https://scikit-learn.org/stable/modules/grid_search.html"
      ],
      "metadata": {
        "id": "v-PqFoIjZqEa"
      }
    },
    {
      "cell_type": "markdown",
      "source": [
        "Deployment"
      ],
      "metadata": {
        "id": "hHKTwx0RCfyF"
      }
    },
    {
      "cell_type": "code",
      "source": [
        "import pickle\n",
        "\n",
        "with open('/content/model.pkl', 'wb') as f:\n",
        "    pickle.dump(random_forest_model, f)"
      ],
      "metadata": {
        "id": "XS6mUMFlMQpp"
      },
      "execution_count": null,
      "outputs": []
    },
    {
      "cell_type": "code",
      "source": [],
      "metadata": {
        "id": "-zELqlZJ2Dp3"
      },
      "execution_count": null,
      "outputs": []
    }
  ]
}